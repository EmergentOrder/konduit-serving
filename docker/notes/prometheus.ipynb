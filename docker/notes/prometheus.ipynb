{
 "cells": [
  {
   "cell_type": "markdown",
   "metadata": {},
   "source": [
    "Prometheus\n",
    "---------------------------------\n",
    "\n",
    "Prometheus is a widely used time series database for tracking system metrics used for debugging production systems.\n",
    "This includes  common metrics used to troubleshoot an application's problems in production such as:\n",
    "\n",
    " - Out of memory\n",
    " - Latency\n",
    " \n",
    " \n",
    " For machine learning, we may include other metrics to help debug things such as:\n",
    " \n",
    "  - Compute time for neural net\n",
    "  - ETL creation (amount of time it takes to convert raw data to a minibatch or ndarray)\n",
    "  \n",
    "  \n",
    "In these examples, prometheus and grafana are used for displaying metrics to assist with troubleshooting production systems.\n",
    "A prometheus instance is configured by a yaml file such as:\n",
    "\n",
    "```yaml\n",
    "#Global configurations\n",
    "global:\n",
    "  scrape_interval:     5s # Set the scrape interval to every 5 seconds.\n",
    "  evaluation_interval: 5s # Evaluate rules every 5 seconds.\n",
    "scrape_configs:\n",
    "  - job_name: 'scrape'\n",
    "    static_configs:\n",
    "    - targets: [ 'pipeline:65322']\n",
    "```\n",
    "\n",
    "The main component to configure is the \"targets\".\n",
    "The targets section is where you specify the source to pull data from.\n",
    "\n",
    "Prometheus works by pulling data from the specified sources.\n",
    "In the self contained examples, a konduit server exposes \n",
    "metrics to be picked up by prometheus from http://hostnameofpipelinesserver:portofpipelinesserver/metrics\n",
    "\n",
    "In this case, pipeline is the host name (set in the docker-compose.yml automatically and used throughout\n",
    "as a reference whenever 2 services in a docker compose file need to communicate with each other)\n",
    "\n",
    "For more examples and explanations of prometheus, take a look at the [prometheus integrations](https://prometheus.io/docs/instrumenting/exporters/) \n",
    "\n",
    "\n"
   ]
  },
  {
   "cell_type": "code",
   "execution_count": null,
   "metadata": {},
   "outputs": [],
   "source": []
  }
 ],
 "metadata": {
  "kernelspec": {
   "display_name": "Python 3",
   "language": "python",
   "name": "python3"
  },
  "language_info": {
   "codemirror_mode": {
    "name": "ipython",
    "version": 3
   },
   "file_extension": ".py",
   "mimetype": "text/x-python",
   "name": "python",
   "nbconvert_exporter": "python",
   "pygments_lexer": "ipython3",
   "version": "3.7.3"
  }
 },
 "nbformat": 4,
 "nbformat_minor": 2
}
